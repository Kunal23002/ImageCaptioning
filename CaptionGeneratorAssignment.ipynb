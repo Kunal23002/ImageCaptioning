{
  "nbformat": 4,
  "nbformat_minor": 0,
  "metadata": {
    "colab": {
      "provenance": []
    },
    "kernelspec": {
      "name": "python3",
      "display_name": "Python 3"
    },
    "language_info": {
      "name": "python"
    },
    "accelerator": "GPU",
    "gpuClass": "standard"
  },
  "cells": [
    {
      "cell_type": "code",
      "execution_count": null,
      "metadata": {
        "id": "siQI7IpAcctO"
      },
      "outputs": [],
      "source": [
        "!pip install transformers\n",
        "!pip install gradio\n"
      ]
    },
    {
      "cell_type": "code",
      "source": [
        "import gradio as gr\n",
        "from io import BytesIO\n",
        "from transformers import pipeline ,VisionEncoderDecoderModel, ViTFeatureExtractor, AutoTokenizer\n",
        "import torch\n",
        "from PIL import Image\n",
        "import os\n",
        "import numpy as np\n",
        "import nltk"
      ],
      "metadata": {
        "id": "vd-5HoLLc2XN"
      },
      "execution_count": 17,
      "outputs": []
    },
    {
      "cell_type": "code",
      "source": [
        "#getting the modules \n",
        "model = VisionEncoderDecoderModel.from_pretrained(\"nlpconnect/vit-gpt2-image-captioning\")\n",
        "feature_extractor = ViTFeatureExtractor.from_pretrained(\"nlpconnect/vit-gpt2-image-captioning\")\n",
        "tokenizer = AutoTokenizer.from_pretrained(\"nlpconnect/vit-gpt2-image-captioning\")\n",
        "\n",
        "#checking if cuda is present to use it\n",
        "device= torch.device(\"cuda\" if torch.cuda.is_available() else \"cpu\")\n",
        "model.to(device)\n",
        "\n",
        "max_length = 16\n",
        "num_beams = 7 #how many candidate sequences at each step\n",
        "num_return_sequences = 4 # number of captions to generate by the decoder\n",
        "gen_kwargs = {\"max_length\": max_length, \"num_beams\": num_beams, \"num_return_sequences\": num_return_sequences}\n",
        "#this a dictionary containing the arguments for the generate method of gp\n",
        "\n",
        "def predict_step(images):\n",
        "  pixel_values = feature_extractor(images=images, return_tensors=\"pt\").pixel_values\n",
        "  pixel_values = pixel_values.to(device)\n",
        "\n",
        "  \n",
        "  output_ids = model.generate(pixel_values, **gen_kwargs)\n",
        "\n",
        "  preds = tokenizer.batch_decode(output_ids, skip_special_tokens=True, clean_up_tokenization_spaces=True)\n",
        "  preds = [pred.strip() for pred in preds]\n",
        "  return \"\\n\".join(preds)\n"
      ],
      "metadata": {
        "id": "_8IOMI8HKkUt"
      },
      "execution_count": null,
      "outputs": []
    },
    {
      "cell_type": "code",
      "source": [
        "nltk.download('stopwords')\n",
        "from nltk.corpus import stopwords\n",
        "hashtags=pipeline(\"summarization\")\n",
        "\n",
        "def generate_hashtags(captions):\n",
        "  #little preprocessing befor summarizing\n",
        "  cleaned_text = captions.replace('\\n', '. ')\n",
        "  joined_text = cleaned_text.rstrip('. ') + '.'\n",
        "  #passing it to the summarizer\n",
        "  hash=hashtags(joined_text, max_length=10, min_length=2, do_sample=False)\n",
        "  hash=hash[0]['summary_text']\n",
        "  hash = ' '.join([word for word in hash.split() if word.lower() not in stopwords.words('english')])\n",
        "  return hash\n",
        "\n",
        "def predict_and_generate(input_image):\n",
        "    captions = predict_step(input_image)\n",
        "    # cleaned_captions = clean_text(captions)\n",
        "    hashtags = generate_hashtags(captions)\n",
        "    return (captions,(\"#\"+hashtags).replace(\" \",\" #\"))\n",
        "\n"
      ],
      "metadata": {
        "id": "0CjqvyT7Yj5T"
      },
      "execution_count": null,
      "outputs": []
    },
    {
      "cell_type": "code",
      "source": [
        "input_image = gr.inputs.Image()\n",
        "output_captions = gr.outputs.Textbox(label=\"Captions\")\n",
        "output_hashtags = gr.outputs.Textbox(label=\"Hashtags\")\n",
        "gr.Interface(fn=predict_and_generate, inputs=input_image, outputs=[output_captions, output_hashtags]).launch(debug=True,share=True)\n",
        "\n"
      ],
      "metadata": {
        "id": "dOKjmnphljiT",
        "colab": {
          "base_uri": "https://localhost:8080/",
          "height": 745
        },
        "outputId": "186f209e-f638-4e14-8379-f3e72cca729a"
      },
      "execution_count": 21,
      "outputs": [
        {
          "output_type": "stream",
          "name": "stderr",
          "text": [
            "/usr/local/lib/python3.10/dist-packages/gradio/inputs.py:257: UserWarning: Usage of gradio.inputs is deprecated, and will not be supported in the future, please import your component from gradio.components\n",
            "  warnings.warn(\n",
            "/usr/local/lib/python3.10/dist-packages/gradio/deprecation.py:40: UserWarning: `optional` parameter is deprecated, and it has no effect\n",
            "  warnings.warn(value)\n",
            "/usr/local/lib/python3.10/dist-packages/gradio/outputs.py:22: UserWarning: Usage of gradio.outputs is deprecated, and will not be supported in the future, please import your components from gradio.components\n",
            "  warnings.warn(\n"
          ]
        },
        {
          "output_type": "stream",
          "name": "stdout",
          "text": [
            "Colab notebook detected. This cell will run indefinitely so that you can see errors and logs. To turn off, set debug=False in launch().\n",
            "Running on public URL: https://9f096b3aa44f61f99e.gradio.live\n",
            "\n",
            "This share link expires in 72 hours. For free permanent hosting and GPU upgrades (NEW!), check out Spaces: https://huggingface.co/spaces\n"
          ]
        },
        {
          "output_type": "display_data",
          "data": {
            "text/plain": [
              "<IPython.core.display.HTML object>"
            ],
            "text/html": [
              "<div><iframe src=\"https://9f096b3aa44f61f99e.gradio.live\" width=\"100%\" height=\"500\" allow=\"autoplay; camera; microphone; clipboard-read; clipboard-write;\" frameborder=\"0\" allowfullscreen></iframe></div>"
            ]
          },
          "metadata": {}
        },
        {
          "output_type": "stream",
          "name": "stdout",
          "text": [
            "Keyboard interruption in main thread... closing server.\n",
            "Killing tunnel 127.0.0.1:7860 <> https://9f096b3aa44f61f99e.gradio.live\n"
          ]
        },
        {
          "output_type": "execute_result",
          "data": {
            "text/plain": []
          },
          "metadata": {},
          "execution_count": 21
        }
      ]
    }
  ]
}