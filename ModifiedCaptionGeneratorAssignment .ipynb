{
  "nbformat": 4,
  "nbformat_minor": 0,
  "metadata": {
    "colab": {
      "provenance": []
    },
    "kernelspec": {
      "name": "python3",
      "display_name": "Python 3"
    },
    "language_info": {
      "name": "python"
    },
    "accelerator": "GPU",
    "gpuClass": "standard"
  },
  "cells": [
    {
      "cell_type": "code",
      "execution_count": null,
      "metadata": {
        "id": "siQI7IpAcctO"
      },
      "outputs": [],
      "source": [
        "!pip install transformers\n",
        "!pip install gradio\n",
        "!pip install openai"
      ]
    },
    {
      "cell_type": "code",
      "source": [
        "import gradio as gr\n",
        "from io import BytesIO\n",
        "from transformers import pipeline ,VisionEncoderDecoderModel, ViTFeatureExtractor, AutoTokenizer\n",
        "import torch\n",
        "from PIL import Image\n",
        "import os\n",
        "import numpy as np\n",
        "import nltk"
      ],
      "metadata": {
        "id": "vd-5HoLLc2XN"
      },
      "execution_count": 4,
      "outputs": []
    },
    {
      "cell_type": "code",
      "source": [
        "#getting the modules \n",
        "model = VisionEncoderDecoderModel.from_pretrained(\"nlpconnect/vit-gpt2-image-captioning\")\n",
        "feature_extractor = ViTFeatureExtractor.from_pretrained(\"nlpconnect/vit-gpt2-image-captioning\")\n",
        "tokenizer = AutoTokenizer.from_pretrained(\"nlpconnect/vit-gpt2-image-captioning\")\n",
        "\n",
        "#checking if cuda is present to use it\n",
        "device= torch.device(\"cuda\" if torch.cuda.is_available() else \"cpu\")\n",
        "model.to(device)\n",
        "\n",
        "max_length = 16\n",
        "num_beams = 7 #how many candidate sequences at each step\n",
        "num_return_sequences = 4 # number of captions to generate by the decoder\n",
        "gen_kwargs = {\"max_length\": max_length, \"num_beams\": num_beams, \"num_return_sequences\": num_return_sequences}\n",
        "#this a dictionary containing the arguments for the generate method of gp\n",
        "\n",
        "def predict_step(images):\n",
        "  pixel_values = feature_extractor(images=images, return_tensors=\"pt\").pixel_values\n",
        "  pixel_values = pixel_values.to(device)\n",
        "\n",
        "  \n",
        "  output_ids = model.generate(pixel_values, **gen_kwargs)\n",
        "\n",
        "  preds = tokenizer.batch_decode(output_ids, skip_special_tokens=True, clean_up_tokenization_spaces=True)\n",
        "  preds = [pred.strip() for pred in preds]\n",
        "  return \"\\n\".join(preds)\n"
      ],
      "metadata": {
        "id": "_8IOMI8HKkUt"
      },
      "execution_count": null,
      "outputs": []
    },
    {
      "cell_type": "code",
      "source": [
        "import openai\n",
        "openai.api_key = 'sk-'"
      ],
      "metadata": {
        "id": "6AuFFtDm3LYl"
      },
      "execution_count": 9,
      "outputs": []
    },
    {
      "cell_type": "code",
      "source": [
        "nltk.download('stopwords')\n",
        "from nltk.corpus import stopwords\n",
        "hashtags=pipeline(\"summarization\")\n",
        "\n",
        "def generate_hashtags(captions):\n",
        "  #little preprocessing befor summarizing\n",
        "  cleaned_text = captions.replace('\\n', '. ')\n",
        "  joined_text = cleaned_text.rstrip('. ') + '.'\n",
        "  #passing it to the summarizer\n",
        "  hash=hashtags(joined_text, max_length=10, min_length=2, do_sample=False)\n",
        "  hash=hash[0]['summary_text']\n",
        "  hash = ' '.join([word for word in hash.split() if word.lower() not in stopwords.words('english')])\n",
        "  return hash\n",
        "\n",
        "def predict_and_generate(input_image):\n",
        "    captions = predict_step(input_image)\n",
        "    # cleaned_captions = clean_text(captions)\n",
        "    hashtags = generate_hashtags(captions)\n",
        "    outputs=captions.split('\\n')\n",
        "    outputs=outputs[0]\n",
        "\n",
        "      # Define your prompt\n",
        "    prompt = \"Instagram caption for \" + outputs\n",
        "\n",
        "    # Generate a response\n",
        "    response = openai.Completion.create(\n",
        "        engine=\"text-davinci-003\",  # Use the GPT-3.5 Turbo model\n",
        "        prompt=prompt,\n",
        "        max_tokens=20,\n",
        "        n=3,\n",
        "        temperature=0.6  # Control the length of the generated response\n",
        "    )\n",
        "\n",
        "    # Extract the generated text from the response\n",
        "    generated_text=\"\"\n",
        "    for i in range(3):\n",
        "      generated_text += response.choices[i].text.strip()+'\\n'\n",
        "\n",
        "\n",
        "\n",
        "\n",
        "    return (generated_text,(\"#\"+hashtags).replace(\" \",\" #\"))\n",
        "\n"
      ],
      "metadata": {
        "id": "0CjqvyT7Yj5T",
        "colab": {
          "base_uri": "https://localhost:8080/"
        },
        "outputId": "9c70fbe8-7dac-48cf-f43d-94ec147dffca"
      },
      "execution_count": 17,
      "outputs": [
        {
          "output_type": "stream",
          "name": "stderr",
          "text": [
            "[nltk_data] Downloading package stopwords to /root/nltk_data...\n",
            "[nltk_data]   Package stopwords is already up-to-date!\n",
            "No model was supplied, defaulted to sshleifer/distilbart-cnn-12-6 and revision a4f8f3e (https://huggingface.co/sshleifer/distilbart-cnn-12-6).\n",
            "Using a pipeline without specifying a model name and revision in production is not recommended.\n"
          ]
        }
      ]
    },
    {
      "cell_type": "code",
      "source": [
        "input_image = gr.inputs.Image()\n",
        "output_captions = gr.outputs.Textbox(label=\"Captions\")\n",
        "output_hashtags = gr.outputs.Textbox(label=\"Hashtags\")\n",
        "gr.Interface(fn=predict_and_generate, inputs=input_image, outputs=[output_captions, output_hashtags]).launch(debug=True,share=True)\n",
        "\n"
      ],
      "metadata": {
        "id": "dOKjmnphljiT",
        "colab": {
          "base_uri": "https://localhost:8080/",
          "height": 755
        },
        "outputId": "3045dd1b-044a-4da9-8e53-8305da76b087"
      },
      "execution_count": 19,
      "outputs": [
        {
          "output_type": "stream",
          "name": "stderr",
          "text": [
            "/usr/local/lib/python3.10/dist-packages/gradio/inputs.py:259: UserWarning: Usage of gradio.inputs is deprecated, and will not be supported in the future, please import your component from gradio.components\n",
            "  warnings.warn(\n",
            "/usr/local/lib/python3.10/dist-packages/gradio/inputs.py:262: UserWarning: `optional` parameter is deprecated, and it has no effect\n",
            "  super().__init__(\n",
            "/usr/local/lib/python3.10/dist-packages/gradio/outputs.py:22: UserWarning: Usage of gradio.outputs is deprecated, and will not be supported in the future, please import your components from gradio.components\n",
            "  warnings.warn(\n"
          ]
        },
        {
          "output_type": "stream",
          "name": "stdout",
          "text": [
            "Colab notebook detected. This cell will run indefinitely so that you can see errors and logs. To turn off, set debug=False in launch().\n",
            "Running on public URL: https://dcf533476bc4ab29d5.gradio.live\n",
            "\n",
            "This share link expires in 72 hours. For free permanent hosting and GPU upgrades, run `gradio deploy` from Terminal to deploy to Spaces (https://huggingface.co/spaces)\n"
          ]
        },
        {
          "output_type": "display_data",
          "data": {
            "text/plain": [
              "<IPython.core.display.HTML object>"
            ],
            "text/html": [
              "<div><iframe src=\"https://dcf533476bc4ab29d5.gradio.live\" width=\"100%\" height=\"500\" allow=\"autoplay; camera; microphone; clipboard-read; clipboard-write;\" frameborder=\"0\" allowfullscreen></iframe></div>"
            ]
          },
          "metadata": {}
        },
        {
          "output_type": "stream",
          "name": "stdout",
          "text": [
            "Keyboard interruption in main thread... closing server.\n",
            "Killing tunnel 127.0.0.1:7860 <> https://dcf533476bc4ab29d5.gradio.live\n"
          ]
        },
        {
          "output_type": "execute_result",
          "data": {
            "text/plain": []
          },
          "metadata": {},
          "execution_count": 19
        }
      ]
    }
  ]
}